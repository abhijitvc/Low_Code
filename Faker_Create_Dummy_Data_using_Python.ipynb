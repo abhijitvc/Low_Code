{
 "cells": [
  {
   "cell_type": "code",
   "execution_count": 1,
   "id": "8a98dbb7",
   "metadata": {},
   "outputs": [],
   "source": [
    "# !pip install Faker"
   ]
  },
  {
   "cell_type": "code",
   "execution_count": 2,
   "id": "5e549d3c",
   "metadata": {},
   "outputs": [
    {
     "name": "stdout",
     "output_type": "stream",
     "text": [
      "Marvin Cox\n",
      "PSC 1940, Box 0385\n",
      "APO AE 88316\n",
      "Draw age movement follow share worry. Great everything pretty direction big issue we. Hair official car walk reality goal friend. Physical American option anyone.\n"
     ]
    }
   ],
   "source": [
    "#The code below will return a fake name, address, and text randomly\n",
    "\n",
    "from faker import Faker\n",
    "fake = Faker()\n",
    "print(fake.name())\n",
    "print(fake.address())\n",
    "print(fake.text())"
   ]
  },
  {
   "cell_type": "code",
   "execution_count": 3,
   "id": "0a737525",
   "metadata": {},
   "outputs": [
    {
     "name": "stdout",
     "output_type": "stream",
     "text": [
      "Joshua Holt\n",
      "0622 Melissa Extensions\n",
      "Heidiberg, NE 54437\n",
      "Term bed avoid information child teach. View born appear tend evidence. Summer for example.\n",
      "Cost perhaps ball add. But station less letter. Difference now rather recent end old agency where.\n"
     ]
    }
   ],
   "source": [
    "from faker import Faker\n",
    "fake = Faker()\n",
    "print(fake.name())\n",
    "print(fake.address())\n",
    "print(fake.text())"
   ]
  },
  {
   "cell_type": "code",
   "execution_count": 4,
   "id": "ba0da37e",
   "metadata": {},
   "outputs": [
    {
     "name": "stdout",
     "output_type": "stream",
     "text": [
      "                                     job                     company  \\\n",
      "0               Surveyor, rural practice                  Hays Group   \n",
      "1              Higher education lecturer               Hanson-Prince   \n",
      "2                         Retail manager                  Carter PLC   \n",
      "3                    Magazine journalist  Navarro, Turner and Bryant   \n",
      "4  Senior tax professional/tax inspector  Myers, Jefferson and Brown   \n",
      "\n",
      "           ssn                                          residence  \\\n",
      "0  630-05-1151  14648 Shepard Vista Apt. 937\\nAbigailview, AR ...   \n",
      "1  250-29-7466        80332 Steven Flat\\nJacquelineview, DE 69949   \n",
      "2  478-08-9767            8845 John Burgs\\nNorth Edward, NJ 09890   \n",
      "3  618-96-2276  6823 Evan Inlet Apt. 413\\nNorth Kenneth, MO 06354   \n",
      "4  830-18-1914  28696 Ashley Ville Suite 117\\nLake Jane, OR 20148   \n",
      "\n",
      "            current_location blood_group  \\\n",
      "0  (-64.1459445, 106.293139)          B-   \n",
      "1     (81.825203, -3.532744)          O-   \n",
      "2   (74.2999875, 113.232527)          O-   \n",
      "3  (-50.064112, -112.566377)          B-   \n",
      "4   (-53.244550, -75.916955)          B+   \n",
      "\n",
      "                                             website       username  \\\n",
      "0  [http://davis.info/, http://www.king.info/, ht...     smithjimmy   \n",
      "1      [https://www.brown.com/, https://stokes.com/]     justinhall   \n",
      "2  [https://thomas-brock.com/, https://juarez.com...   jermaineking   \n",
      "3                         [https://li-franklin.com/]   bryanpatrick   \n",
      "4                             [https://alvarez.com/]  laurenedwards   \n",
      "\n",
      "                    name sex  \\\n",
      "0         Travis Maynard   M   \n",
      "1           Bailey Adams   F   \n",
      "2            Jenna Brown   F   \n",
      "3  Michael Rodriguez DVM   M   \n",
      "4         Daniel Baldwin   M   \n",
      "\n",
      "                                             address  \\\n",
      "0   085 White Points Suite 999\\nDanielbury, ME 95223   \n",
      "1            72791 Reese Roads\\nAshleyfort, AL 59288   \n",
      "2   03015 Mark Rapids Apt. 589\\nNew Justin, NY 92359   \n",
      "3  738 Stephen Mills Suite 367\\nSouth Matthewside...   \n",
      "4  37642 Vicki Grove Apt. 249\\nPort Williambury, ...   \n",
      "\n",
      "                          mail   birthdate  \n",
      "0         jacobsglen@gmail.com  1997-02-22  \n",
      "1          michael38@gmail.com  1955-05-17  \n",
      "2           andrea82@yahoo.com  1911-10-09  \n",
      "3  williamsmackenzie@yahoo.com  1946-08-06  \n",
      "4        fisherkaren@gmail.com  1918-09-04  \n"
     ]
    }
   ],
   "source": [
    "# The Faker().profile() method returns fake data about job profiles containing 13 columns.\n",
    "# So below is how you can create a dummy dataset using Python\n",
    "\n",
    "from faker import Faker\n",
    "import pandas as pd\n",
    "\n",
    "fake = Faker()\n",
    "data = [fake.profile() for i in range(50)]\n",
    "data = pd.DataFrame(data)\n",
    "print(data.head())"
   ]
  },
  {
   "cell_type": "code",
   "execution_count": 5,
   "id": "df732667",
   "metadata": {},
   "outputs": [
    {
     "data": {
      "text/html": [
       "\n",
       "        <iframe\n",
       "            width=\"100%\"\n",
       "            height=\"475\"\n",
       "            src=\"http://LAPTOP-UCQH007I:40000/dtale/iframe/1\"\n",
       "            frameborder=\"0\"\n",
       "            allowfullscreen\n",
       "            \n",
       "        ></iframe>\n",
       "        "
      ],
      "text/plain": [
       "<IPython.lib.display.IFrame at 0x2656b783048>"
      ]
     },
     "metadata": {},
     "output_type": "display_data"
    },
    {
     "data": {
      "text/plain": []
     },
     "execution_count": 5,
     "metadata": {},
     "output_type": "execute_result"
    }
   ],
   "source": [
    "import dtale\n",
    "\n",
    "dtale.show(data)"
   ]
  },
  {
   "cell_type": "code",
   "execution_count": 6,
   "id": "ba816aa4",
   "metadata": {},
   "outputs": [],
   "source": [
    "# dtale.show(data).open_browser()"
   ]
  },
  {
   "cell_type": "code",
   "execution_count": 7,
   "id": "605e3d58",
   "metadata": {},
   "outputs": [
    {
     "name": "stdout",
     "output_type": "stream",
     "text": [
      "Amanda Porter\n",
      "Darlene Le\n",
      "Erin Lowe\n",
      "Emily Black\n",
      "Cheryl Little\n",
      "Anthony Thomas\n",
      "Mary Saunders\n",
      "Vincent Vance\n",
      "Matthew Rivera\n",
      "Kathleen Barr\n"
     ]
    }
   ],
   "source": [
    "#Print 10 fake names\n",
    "\n",
    "for _ in range(10):\n",
    "  print(fake.name())"
   ]
  },
  {
   "cell_type": "code",
   "execution_count": 8,
   "id": "2e71338d",
   "metadata": {},
   "outputs": [
    {
     "name": "stdout",
     "output_type": "stream",
     "text": [
      "Melissa Scalfaro\n",
      "Antonietta Parmitano\n",
      "Raffaellino Rinaldi\n",
      "Dott. Marcello Comboni\n",
      "Severino Carpaccio\n",
      "Raffaella Turchetta\n",
      "Gino Babati-Vitturi\n",
      "Lamberto Squarcione\n",
      "Sig.ra Ida Rossellini\n",
      "Leopoldo Ammaniti\n"
     ]
    }
   ],
   "source": [
    "from faker import Faker\n",
    "fake = Faker('it_IT')\n",
    "for _ in range(10):\n",
    "    print(fake.name())"
   ]
  },
  {
   "cell_type": "code",
   "execution_count": null,
   "id": "b1a81736",
   "metadata": {},
   "outputs": [],
   "source": []
  }
 ],
 "metadata": {
  "kernelspec": {
   "display_name": "Python 3 (ipykernel)",
   "language": "python",
   "name": "python3"
  },
  "language_info": {
   "codemirror_mode": {
    "name": "ipython",
    "version": 3
   },
   "file_extension": ".py",
   "mimetype": "text/x-python",
   "name": "python",
   "nbconvert_exporter": "python",
   "pygments_lexer": "ipython3",
   "version": "3.7.9"
  }
 },
 "nbformat": 4,
 "nbformat_minor": 5
}
